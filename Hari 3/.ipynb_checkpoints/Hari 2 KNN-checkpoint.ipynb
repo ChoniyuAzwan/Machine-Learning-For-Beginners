{
 "cells": [
  {
   "cell_type": "code",
   "execution_count": 1,
   "metadata": {
    "collapsed": true
   },
   "outputs": [],
   "source": [
    "import numpy as np"
   ]
  },
  {
   "cell_type": "code",
   "execution_count": 2,
   "metadata": {
    "collapsed": true
   },
   "outputs": [],
   "source": [
    "import pandas as pd"
   ]
  },
  {
   "cell_type": "code",
   "execution_count": 4,
   "metadata": {
    "collapsed": true
   },
   "outputs": [],
   "source": [
    "data = pd.read_csv(\"HR_comma_sep.csv\")"
   ]
  },
  {
   "cell_type": "code",
   "execution_count": 5,
   "metadata": {
    "collapsed": false
   },
   "outputs": [],
   "source": [
    "y = data[\"left\"]"
   ]
  },
  {
   "cell_type": "code",
   "execution_count": 6,
   "metadata": {
    "collapsed": true
   },
   "outputs": [],
   "source": [
    "x = data.drop([\"left\"], axis=1)"
   ]
  },
  {
   "cell_type": "code",
   "execution_count": 7,
   "metadata": {
    "collapsed": false
   },
   "outputs": [
    {
     "data": {
      "text/plain": [
       "sales          0.276018\n",
       "technical      0.181345\n",
       "support        0.148610\n",
       "IT             0.081805\n",
       "product_mng    0.060137\n",
       "marketing      0.057204\n",
       "RandD          0.052470\n",
       "accounting     0.051137\n",
       "hr             0.049270\n",
       "management     0.042003\n",
       "Name: sales, dtype: float64"
      ]
     },
     "execution_count": 7,
     "metadata": {},
     "output_type": "execute_result"
    }
   ],
   "source": [
    "x[\"sales\"].value_counts(normalize=True)"
   ]
  },
  {
   "cell_type": "code",
   "execution_count": 8,
   "metadata": {
    "collapsed": false
   },
   "outputs": [
    {
     "data": {
      "text/plain": [
       "<bound method Series.head of 0        1\n",
       "1        1\n",
       "2        1\n",
       "3        1\n",
       "4        1\n",
       "5        1\n",
       "6        1\n",
       "7        1\n",
       "8        1\n",
       "9        1\n",
       "10       1\n",
       "11       1\n",
       "12       1\n",
       "13       1\n",
       "14       1\n",
       "15       1\n",
       "16       1\n",
       "17       1\n",
       "18       1\n",
       "19       1\n",
       "20       1\n",
       "21       1\n",
       "22       1\n",
       "23       1\n",
       "24       1\n",
       "25       1\n",
       "26       1\n",
       "27       1\n",
       "28       1\n",
       "29       1\n",
       "        ..\n",
       "14969    1\n",
       "14970    1\n",
       "14971    1\n",
       "14972    1\n",
       "14973    1\n",
       "14974    1\n",
       "14975    1\n",
       "14976    1\n",
       "14977    1\n",
       "14978    1\n",
       "14979    1\n",
       "14980    1\n",
       "14981    1\n",
       "14982    1\n",
       "14983    1\n",
       "14984    1\n",
       "14985    1\n",
       "14986    1\n",
       "14987    1\n",
       "14988    1\n",
       "14989    1\n",
       "14990    1\n",
       "14991    1\n",
       "14992    1\n",
       "14993    1\n",
       "14994    1\n",
       "14995    1\n",
       "14996    1\n",
       "14997    1\n",
       "14998    1\n",
       "Name: left, dtype: int64>"
      ]
     },
     "execution_count": 8,
     "metadata": {},
     "output_type": "execute_result"
    }
   ],
   "source": [
    "y.head"
   ]
  },
  {
   "cell_type": "code",
   "execution_count": 9,
   "metadata": {
    "collapsed": false
   },
   "outputs": [
    {
     "data": {
      "text/plain": [
       "<bound method DataFrame.head of        satisfaction_level  last_evaluation  number_project  \\\n",
       "0                    0.38             0.53               2   \n",
       "1                    0.80             0.86               5   \n",
       "2                    0.11             0.88               7   \n",
       "3                    0.72             0.87               5   \n",
       "4                    0.37             0.52               2   \n",
       "5                    0.41             0.50               2   \n",
       "6                    0.10             0.77               6   \n",
       "7                    0.92             0.85               5   \n",
       "8                    0.89             1.00               5   \n",
       "9                    0.42             0.53               2   \n",
       "10                   0.45             0.54               2   \n",
       "11                   0.11             0.81               6   \n",
       "12                   0.84             0.92               4   \n",
       "13                   0.41             0.55               2   \n",
       "14                   0.36             0.56               2   \n",
       "15                   0.38             0.54               2   \n",
       "16                   0.45             0.47               2   \n",
       "17                   0.78             0.99               4   \n",
       "18                   0.45             0.51               2   \n",
       "19                   0.76             0.89               5   \n",
       "20                   0.11             0.83               6   \n",
       "21                   0.38             0.55               2   \n",
       "22                   0.09             0.95               6   \n",
       "23                   0.46             0.57               2   \n",
       "24                   0.40             0.53               2   \n",
       "25                   0.89             0.92               5   \n",
       "26                   0.82             0.87               4   \n",
       "27                   0.40             0.49               2   \n",
       "28                   0.41             0.46               2   \n",
       "29                   0.38             0.50               2   \n",
       "...                   ...              ...             ...   \n",
       "14969                0.43             0.46               2   \n",
       "14970                0.78             0.93               4   \n",
       "14971                0.39             0.45               2   \n",
       "14972                0.11             0.97               6   \n",
       "14973                0.36             0.52               2   \n",
       "14974                0.36             0.54               2   \n",
       "14975                0.10             0.79               7   \n",
       "14976                0.40             0.47               2   \n",
       "14977                0.81             0.85               4   \n",
       "14978                0.40             0.47               2   \n",
       "14979                0.09             0.93               6   \n",
       "14980                0.76             0.89               5   \n",
       "14981                0.73             0.93               5   \n",
       "14982                0.38             0.49               2   \n",
       "14983                0.72             0.84               5   \n",
       "14984                0.40             0.56               2   \n",
       "14985                0.91             0.99               5   \n",
       "14986                0.85             0.85               4   \n",
       "14987                0.90             0.70               5   \n",
       "14988                0.46             0.55               2   \n",
       "14989                0.43             0.57               2   \n",
       "14990                0.89             0.88               5   \n",
       "14991                0.09             0.81               6   \n",
       "14992                0.40             0.48               2   \n",
       "14993                0.76             0.83               6   \n",
       "14994                0.40             0.57               2   \n",
       "14995                0.37             0.48               2   \n",
       "14996                0.37             0.53               2   \n",
       "14997                0.11             0.96               6   \n",
       "14998                0.37             0.52               2   \n",
       "\n",
       "       average_montly_hours  time_spend_company  Work_accident  \\\n",
       "0                       157                   3              0   \n",
       "1                       262                   6              0   \n",
       "2                       272                   4              0   \n",
       "3                       223                   5              0   \n",
       "4                       159                   3              0   \n",
       "5                       153                   3              0   \n",
       "6                       247                   4              0   \n",
       "7                       259                   5              0   \n",
       "8                       224                   5              0   \n",
       "9                       142                   3              0   \n",
       "10                      135                   3              0   \n",
       "11                      305                   4              0   \n",
       "12                      234                   5              0   \n",
       "13                      148                   3              0   \n",
       "14                      137                   3              0   \n",
       "15                      143                   3              0   \n",
       "16                      160                   3              0   \n",
       "17                      255                   6              0   \n",
       "18                      160                   3              1   \n",
       "19                      262                   5              0   \n",
       "20                      282                   4              0   \n",
       "21                      147                   3              0   \n",
       "22                      304                   4              0   \n",
       "23                      139                   3              0   \n",
       "24                      158                   3              0   \n",
       "25                      242                   5              0   \n",
       "26                      239                   5              0   \n",
       "27                      135                   3              0   \n",
       "28                      128                   3              0   \n",
       "29                      132                   3              0   \n",
       "...                     ...                 ...            ...   \n",
       "14969                   157                   3              0   \n",
       "14970                   225                   5              0   \n",
       "14971                   140                   3              0   \n",
       "14972                   310                   4              0   \n",
       "14973                   143                   3              0   \n",
       "14974                   153                   3              0   \n",
       "14975                   310                   4              0   \n",
       "14976                   136                   3              0   \n",
       "14977                   251                   6              0   \n",
       "14978                   144                   3              0   \n",
       "14979                   296                   4              0   \n",
       "14980                   238                   5              0   \n",
       "14981                   162                   4              0   \n",
       "14982                   137                   3              0   \n",
       "14983                   257                   5              0   \n",
       "14984                   148                   3              0   \n",
       "14985                   254                   5              0   \n",
       "14986                   247                   6              0   \n",
       "14987                   206                   4              0   \n",
       "14988                   145                   3              0   \n",
       "14989                   159                   3              1   \n",
       "14990                   228                   5              1   \n",
       "14991                   257                   4              0   \n",
       "14992                   155                   3              0   \n",
       "14993                   293                   6              0   \n",
       "14994                   151                   3              0   \n",
       "14995                   160                   3              0   \n",
       "14996                   143                   3              0   \n",
       "14997                   280                   4              0   \n",
       "14998                   158                   3              0   \n",
       "\n",
       "       promotion_last_5years       sales  salary  \n",
       "0                          0       sales     low  \n",
       "1                          0       sales  medium  \n",
       "2                          0       sales  medium  \n",
       "3                          0       sales     low  \n",
       "4                          0       sales     low  \n",
       "5                          0       sales     low  \n",
       "6                          0       sales     low  \n",
       "7                          0       sales     low  \n",
       "8                          0       sales     low  \n",
       "9                          0       sales     low  \n",
       "10                         0       sales     low  \n",
       "11                         0       sales     low  \n",
       "12                         0       sales     low  \n",
       "13                         0       sales     low  \n",
       "14                         0       sales     low  \n",
       "15                         0       sales     low  \n",
       "16                         0       sales     low  \n",
       "17                         0       sales     low  \n",
       "18                         1       sales     low  \n",
       "19                         0       sales     low  \n",
       "20                         0       sales     low  \n",
       "21                         0       sales     low  \n",
       "22                         0       sales     low  \n",
       "23                         0       sales     low  \n",
       "24                         0       sales     low  \n",
       "25                         0       sales     low  \n",
       "26                         0       sales     low  \n",
       "27                         0       sales     low  \n",
       "28                         0  accounting     low  \n",
       "29                         0  accounting     low  \n",
       "...                      ...         ...     ...  \n",
       "14969                      0       sales  medium  \n",
       "14970                      0       sales  medium  \n",
       "14971                      0       sales  medium  \n",
       "14972                      0  accounting  medium  \n",
       "14973                      0  accounting  medium  \n",
       "14974                      0  accounting  medium  \n",
       "14975                      0          hr  medium  \n",
       "14976                      0          hr  medium  \n",
       "14977                      0          hr  medium  \n",
       "14978                      0          hr  medium  \n",
       "14979                      0   technical  medium  \n",
       "14980                      0   technical    high  \n",
       "14981                      0   technical     low  \n",
       "14982                      0   technical  medium  \n",
       "14983                      0   technical  medium  \n",
       "14984                      0   technical  medium  \n",
       "14985                      0   technical  medium  \n",
       "14986                      0   technical     low  \n",
       "14987                      0   technical     low  \n",
       "14988                      0   technical     low  \n",
       "14989                      0   technical     low  \n",
       "14990                      0     support     low  \n",
       "14991                      0     support     low  \n",
       "14992                      0     support     low  \n",
       "14993                      0     support     low  \n",
       "14994                      0     support     low  \n",
       "14995                      0     support     low  \n",
       "14996                      0     support     low  \n",
       "14997                      0     support     low  \n",
       "14998                      0     support     low  \n",
       "\n",
       "[14999 rows x 9 columns]>"
      ]
     },
     "execution_count": 9,
     "metadata": {},
     "output_type": "execute_result"
    }
   ],
   "source": [
    "x.head"
   ]
  },
  {
   "cell_type": "code",
   "execution_count": null,
   "metadata": {
    "collapsed": true
   },
   "outputs": [],
   "source": []
  }
 ],
 "metadata": {
  "anaconda-cloud": {},
  "kernelspec": {
   "display_name": "Python [conda root]",
   "language": "python",
   "name": "conda-root-py"
  },
  "language_info": {
   "codemirror_mode": {
    "name": "ipython",
    "version": 2
   },
   "file_extension": ".py",
   "mimetype": "text/x-python",
   "name": "python",
   "nbconvert_exporter": "python",
   "pygments_lexer": "ipython2",
   "version": "2.7.12"
  }
 },
 "nbformat": 4,
 "nbformat_minor": 1
}
